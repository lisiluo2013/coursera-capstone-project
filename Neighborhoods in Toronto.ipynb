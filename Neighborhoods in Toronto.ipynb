{
    "nbformat_minor": 1, 
    "cells": [
        {
            "source": "# 0. Installing the pre-requisted libs", 
            "cell_type": "markdown", 
            "metadata": {}
        }, 
        {
            "execution_count": 1, 
            "cell_type": "code", 
            "metadata": {}, 
            "outputs": [
                {
                    "output_type": "stream", 
                    "name": "stdout", 
                    "text": "Requirement already satisfied: beautifulsoup4 in /opt/conda/envs/Python36/lib/python3.6/site-packages (4.7.1)\nRequirement already satisfied: requests in /opt/conda/envs/Python36/lib/python3.6/site-packages (2.21.0)\nRequirement already satisfied: pandas in /opt/conda/envs/Python36/lib/python3.6/site-packages (0.24.1)\nCollecting geocoder\n\u001b[?25l  Downloading https://files.pythonhosted.org/packages/4f/6b/13166c909ad2f2d76b929a4227c952630ebaf0d729f6317eb09cbceccbab/geocoder-1.38.1-py2.py3-none-any.whl (98kB)\n\u001b[K     |\u2588\u2588\u2588\u2588\u2588\u2588\u2588\u2588\u2588\u2588\u2588\u2588\u2588\u2588\u2588\u2588\u2588\u2588\u2588\u2588\u2588\u2588\u2588\u2588\u2588\u2588\u2588\u2588\u2588\u2588\u2588\u2588| 102kB 15.0MB/s ta 0:00:01\n\u001b[?25hRequirement already satisfied: soupsieve>=1.2 in /opt/conda/envs/Python36/lib/python3.6/site-packages (from beautifulsoup4) (1.7.1)\nRequirement already satisfied: urllib3<1.25,>=1.21.1 in /opt/conda/envs/Python36/lib/python3.6/site-packages (from requests) (1.24.1)\nRequirement already satisfied: certifi>=2017.4.17 in /opt/conda/envs/Python36/lib/python3.6/site-packages (from requests) (2019.6.16)\nRequirement already satisfied: chardet<3.1.0,>=3.0.2 in /opt/conda/envs/Python36/lib/python3.6/site-packages (from requests) (3.0.4)\nRequirement already satisfied: idna<2.9,>=2.5 in /opt/conda/envs/Python36/lib/python3.6/site-packages (from requests) (2.8)\nRequirement already satisfied: python-dateutil>=2.5.0 in /opt/conda/envs/Python36/lib/python3.6/site-packages (from pandas) (2.7.5)\nRequirement already satisfied: pytz>=2011k in /opt/conda/envs/Python36/lib/python3.6/site-packages (from pandas) (2018.9)\nRequirement already satisfied: numpy>=1.12.0 in /opt/conda/envs/Python36/lib/python3.6/site-packages (from pandas) (1.15.4)\nRequirement already satisfied: future in /opt/conda/envs/Python36/lib/python3.6/site-packages (from geocoder) (0.17.1)\nRequirement already satisfied: click in /opt/conda/envs/Python36/lib/python3.6/site-packages (from geocoder) (7.0)\nRequirement already satisfied: six in /opt/conda/envs/Python36/lib/python3.6/site-packages (from geocoder) (1.12.0)\nCollecting ratelim (from geocoder)\n  Downloading https://files.pythonhosted.org/packages/f2/98/7e6d147fd16a10a5f821db6e25f192265d6ecca3d82957a4fdd592cad49c/ratelim-0.1.6-py2.py3-none-any.whl\nRequirement already satisfied: decorator in /opt/conda/envs/Python36/lib/python3.6/site-packages (from ratelim->geocoder) (4.3.2)\nInstalling collected packages: ratelim, geocoder\nSuccessfully installed geocoder-1.38.1 ratelim-0.1.6\n"
                }
            ], 
            "source": "!pip install beautifulsoup4 requests pandas geocoder"
        }, 
        {
            "source": "# 1. Data scrape", 
            "cell_type": "markdown", 
            "metadata": {
                "collapsed": true
            }
        }, 
        {
            "execution_count": 2, 
            "cell_type": "code", 
            "metadata": {}, 
            "outputs": [], 
            "source": "from bs4 import BeautifulSoup\nimport requests\nimport pandas as pd\nimport geocoder\nimport time\nimport json"
        }, 
        {
            "source": "### 1.1 Scraping from wikipedia", 
            "cell_type": "markdown", 
            "metadata": {}
        }, 
        {
            "execution_count": 3, 
            "cell_type": "code", 
            "metadata": {}, 
            "outputs": [], 
            "source": "def link_or_text(elem):\n    link = elem.select_one('a')\n    if link:\n        return link.text.strip()\n    return elem.text.strip()"
        }, 
        {
            "execution_count": 61, 
            "cell_type": "code", 
            "metadata": {}, 
            "outputs": [], 
            "source": "URL = \"https://en.wikipedia.org/wiki/List_of_postal_codes_of_Canada:_M\"\npc_data = []\n\nhtml = requests.get(URL).content\nsoup = BeautifulSoup(html, 'html.parser')\ntbody = soup.select_one('table.wikitable>tbody')\n\nfor tr in tbody.find_all('tr'):\n    tds = tr.find_all('td')\n    if len(tds) == 3:\n        pc, borough, neighbourhood = [link_or_text(td) for td in tds]\n        if borough == 'Not assigned':\n            # ignore when borough is ''Not assigned\n            continue\n        item = dict(zip(['Postcode', 'Borough', 'Neighbourhood'],  [pc, borough, neighbourhood]))\n        pc_data.append(item) "
        }, 
        {
            "execution_count": 62, 
            "cell_type": "code", 
            "metadata": {}, 
            "outputs": [
                {
                    "execution_count": 62, 
                    "metadata": {}, 
                    "data": {
                        "text/plain": "[{'Postcode': 'M3A', 'Borough': 'North York', 'Neighbourhood': 'Parkwoods'},\n {'Postcode': 'M4A',\n  'Borough': 'North York',\n  'Neighbourhood': 'Victoria Village'},\n {'Postcode': 'M5A',\n  'Borough': 'Downtown Toronto',\n  'Neighbourhood': 'Harbourfront'}]"
                    }, 
                    "output_type": "execute_result"
                }
            ], 
            "source": "pc_data[:3]"
        }, 
        {
            "execution_count": 64, 
            "cell_type": "code", 
            "metadata": {}, 
            "outputs": [], 
            "source": "pc_df = pd.DataFrame(pc_data)"
        }, 
        {
            "execution_count": 65, 
            "cell_type": "code", 
            "metadata": {}, 
            "outputs": [
                {
                    "execution_count": 65, 
                    "metadata": {}, 
                    "data": {
                        "text/html": "<div>\n<style scoped>\n    .dataframe tbody tr th:only-of-type {\n        vertical-align: middle;\n    }\n\n    .dataframe tbody tr th {\n        vertical-align: top;\n    }\n\n    .dataframe thead th {\n        text-align: right;\n    }\n</style>\n<table border=\"1\" class=\"dataframe\">\n  <thead>\n    <tr style=\"text-align: right;\">\n      <th></th>\n      <th>Borough</th>\n      <th>Neighbourhood</th>\n      <th>Postcode</th>\n    </tr>\n  </thead>\n  <tbody>\n    <tr>\n      <th>0</th>\n      <td>North York</td>\n      <td>Parkwoods</td>\n      <td>M3A</td>\n    </tr>\n    <tr>\n      <th>1</th>\n      <td>North York</td>\n      <td>Victoria Village</td>\n      <td>M4A</td>\n    </tr>\n    <tr>\n      <th>2</th>\n      <td>Downtown Toronto</td>\n      <td>Harbourfront</td>\n      <td>M5A</td>\n    </tr>\n    <tr>\n      <th>3</th>\n      <td>Downtown Toronto</td>\n      <td>Regent Park</td>\n      <td>M5A</td>\n    </tr>\n    <tr>\n      <th>4</th>\n      <td>North York</td>\n      <td>Lawrence Heights</td>\n      <td>M6A</td>\n    </tr>\n  </tbody>\n</table>\n</div>", 
                        "text/plain": "            Borough     Neighbourhood Postcode\n0        North York         Parkwoods      M3A\n1        North York  Victoria Village      M4A\n2  Downtown Toronto      Harbourfront      M5A\n3  Downtown Toronto       Regent Park      M5A\n4        North York  Lawrence Heights      M6A"
                    }, 
                    "output_type": "execute_result"
                }
            ], 
            "source": "pc_df.head()"
        }, 
        {
            "execution_count": 66, 
            "cell_type": "code", 
            "metadata": {}, 
            "outputs": [
                {
                    "execution_count": 66, 
                    "metadata": {}, 
                    "data": {
                        "text/html": "<div>\n<style scoped>\n    .dataframe tbody tr th:only-of-type {\n        vertical-align: middle;\n    }\n\n    .dataframe tbody tr th {\n        vertical-align: top;\n    }\n\n    .dataframe thead th {\n        text-align: right;\n    }\n</style>\n<table border=\"1\" class=\"dataframe\">\n  <thead>\n    <tr style=\"text-align: right;\">\n      <th></th>\n      <th>Borough</th>\n      <th>Neighbourhood</th>\n      <th>Postcode</th>\n    </tr>\n  </thead>\n  <tbody>\n    <tr>\n      <th>206</th>\n      <td>Etobicoke</td>\n      <td>Kingsway Park South West</td>\n      <td>M8Z</td>\n    </tr>\n    <tr>\n      <th>207</th>\n      <td>Etobicoke</td>\n      <td>Mimico NW</td>\n      <td>M8Z</td>\n    </tr>\n    <tr>\n      <th>208</th>\n      <td>Etobicoke</td>\n      <td>The Queensway West</td>\n      <td>M8Z</td>\n    </tr>\n    <tr>\n      <th>209</th>\n      <td>Etobicoke</td>\n      <td>Royal York South West</td>\n      <td>M8Z</td>\n    </tr>\n    <tr>\n      <th>210</th>\n      <td>Etobicoke</td>\n      <td>South of Bloor</td>\n      <td>M8Z</td>\n    </tr>\n  </tbody>\n</table>\n</div>", 
                        "text/plain": "       Borough             Neighbourhood Postcode\n206  Etobicoke  Kingsway Park South West      M8Z\n207  Etobicoke                 Mimico NW      M8Z\n208  Etobicoke        The Queensway West      M8Z\n209  Etobicoke     Royal York South West      M8Z\n210  Etobicoke            South of Bloor      M8Z"
                    }, 
                    "output_type": "execute_result"
                }
            ], 
            "source": "pc_df.tail()"
        }, 
        {
            "source": "### 1.2 Retriving location coordinates", 
            "cell_type": "markdown", 
            "metadata": {}
        }, 
        {
            "execution_count": 67, 
            "cell_type": "code", 
            "metadata": {}, 
            "outputs": [], 
            "source": "GCP_API_KEY = 'THIS_IS_A_SECRET'"
        }, 
        {
            "execution_count": 68, 
            "cell_type": "code", 
            "metadata": {}, 
            "outputs": [], 
            "source": "# The code was removed by Watson Studio for sharing."
        }, 
        {
            "execution_count": 69, 
            "cell_type": "code", 
            "metadata": {}, 
            "outputs": [], 
            "source": "latlong_data = []\n\nqry_result = []\nfor item in pc_data:\n    pc = item.get('Postcode')\n    qry = f'{pc}, Toronto, Ontario'\n    for i in range(3):\n        r = geocoder.google(qry, key=GCP_API_KEY)\n        if r.latlng:\n            #print(f'{qry} {r.latlng}')\n            qry_result.append(r)\n            break\n        else:\n            time.sleep(1.5)\n    "
        }, 
        {
            "execution_count": 70, 
            "cell_type": "code", 
            "metadata": {}, 
            "outputs": [], 
            "source": "## `latlongs` is just a list of dictionary with keys Latitude and Longtitude \n## and we will merge it back to the pc_data later\nlatlongs = [dict([('Latitude', r.latlng[0]), ('Longtitude', r.latlng[1])])  for r in  qry_result]"
        }, 
        {
            "execution_count": 73, 
            "cell_type": "code", 
            "metadata": {}, 
            "outputs": [
                {
                    "execution_count": 73, 
                    "metadata": {}, 
                    "data": {
                        "text/plain": "(211, 211)"
                    }, 
                    "output_type": "execute_result"
                }
            ], 
            "source": "len(latlongs), len(pc_data)"
        }, 
        {
            "execution_count": 74, 
            "cell_type": "code", 
            "metadata": {}, 
            "outputs": [
                {
                    "execution_count": 74, 
                    "metadata": {}, 
                    "data": {
                        "text/plain": "[{'Latitude': 43.7532586, 'Longtitude': -79.3296565},\n {'Latitude': 43.72588229999999, 'Longtitude': -79.3155716},\n {'Latitude': 43.6542599, 'Longtitude': -79.36063589999999},\n {'Latitude': 43.6542599, 'Longtitude': -79.36063589999999},\n {'Latitude': 43.718518, 'Longtitude': -79.4647633}]"
                    }, 
                    "output_type": "execute_result"
                }
            ], 
            "source": "latlongs[:5]"
        }, 
        {
            "execution_count": 75, 
            "cell_type": "code", 
            "metadata": {}, 
            "outputs": [], 
            "source": "## Merging the pc_data and latlongs\n_ = [d.update(d_latlng) for (d, d_latlng) in zip(pc_data, latlongs)]"
        }, 
        {
            "execution_count": 76, 
            "cell_type": "code", 
            "metadata": {}, 
            "outputs": [
                {
                    "execution_count": 76, 
                    "metadata": {}, 
                    "data": {
                        "text/plain": "[{'Postcode': 'M3A',\n  'Borough': 'North York',\n  'Neighbourhood': 'Parkwoods',\n  'Latitude': 43.7532586,\n  'Longtitude': -79.3296565},\n {'Postcode': 'M4A',\n  'Borough': 'North York',\n  'Neighbourhood': 'Victoria Village',\n  'Latitude': 43.72588229999999,\n  'Longtitude': -79.3155716},\n {'Postcode': 'M5A',\n  'Borough': 'Downtown Toronto',\n  'Neighbourhood': 'Harbourfront',\n  'Latitude': 43.6542599,\n  'Longtitude': -79.36063589999999}]"
                    }, 
                    "output_type": "execute_result"
                }
            ], 
            "source": "pc_data[:3]"
        }, 
        {
            "execution_count": 77, 
            "cell_type": "code", 
            "metadata": {}, 
            "outputs": [], 
            "source": "df_pc2 = pd.DataFrame(pc_data, columns=['Postcode', 'Borough', 'Neighbourhood', 'Latitude', 'Longtitude'])"
        }, 
        {
            "execution_count": 78, 
            "cell_type": "code", 
            "metadata": {}, 
            "outputs": [
                {
                    "execution_count": 78, 
                    "metadata": {}, 
                    "data": {
                        "text/html": "<div>\n<style scoped>\n    .dataframe tbody tr th:only-of-type {\n        vertical-align: middle;\n    }\n\n    .dataframe tbody tr th {\n        vertical-align: top;\n    }\n\n    .dataframe thead th {\n        text-align: right;\n    }\n</style>\n<table border=\"1\" class=\"dataframe\">\n  <thead>\n    <tr style=\"text-align: right;\">\n      <th></th>\n      <th>Postcode</th>\n      <th>Borough</th>\n      <th>Neighbourhood</th>\n      <th>Latitude</th>\n      <th>Longtitude</th>\n    </tr>\n  </thead>\n  <tbody>\n    <tr>\n      <th>0</th>\n      <td>M3A</td>\n      <td>North York</td>\n      <td>Parkwoods</td>\n      <td>43.753259</td>\n      <td>-79.329656</td>\n    </tr>\n    <tr>\n      <th>1</th>\n      <td>M4A</td>\n      <td>North York</td>\n      <td>Victoria Village</td>\n      <td>43.725882</td>\n      <td>-79.315572</td>\n    </tr>\n    <tr>\n      <th>2</th>\n      <td>M5A</td>\n      <td>Downtown Toronto</td>\n      <td>Harbourfront</td>\n      <td>43.654260</td>\n      <td>-79.360636</td>\n    </tr>\n    <tr>\n      <th>3</th>\n      <td>M5A</td>\n      <td>Downtown Toronto</td>\n      <td>Regent Park</td>\n      <td>43.654260</td>\n      <td>-79.360636</td>\n    </tr>\n    <tr>\n      <th>4</th>\n      <td>M6A</td>\n      <td>North York</td>\n      <td>Lawrence Heights</td>\n      <td>43.718518</td>\n      <td>-79.464763</td>\n    </tr>\n    <tr>\n      <th>5</th>\n      <td>M6A</td>\n      <td>North York</td>\n      <td>Lawrence Manor</td>\n      <td>43.718518</td>\n      <td>-79.464763</td>\n    </tr>\n    <tr>\n      <th>6</th>\n      <td>M7A</td>\n      <td>Queen's Park</td>\n      <td>Not assigned</td>\n      <td>43.662301</td>\n      <td>-79.389494</td>\n    </tr>\n    <tr>\n      <th>7</th>\n      <td>M9A</td>\n      <td>Etobicoke</td>\n      <td>Islington Avenue</td>\n      <td>43.667856</td>\n      <td>-79.532242</td>\n    </tr>\n    <tr>\n      <th>8</th>\n      <td>M1B</td>\n      <td>Scarborough</td>\n      <td>Rouge</td>\n      <td>43.806686</td>\n      <td>-79.194353</td>\n    </tr>\n    <tr>\n      <th>9</th>\n      <td>M1B</td>\n      <td>Scarborough</td>\n      <td>Malvern</td>\n      <td>43.806686</td>\n      <td>-79.194353</td>\n    </tr>\n    <tr>\n      <th>10</th>\n      <td>M3B</td>\n      <td>North York</td>\n      <td>Don Mills North</td>\n      <td>43.745906</td>\n      <td>-79.352188</td>\n    </tr>\n    <tr>\n      <th>11</th>\n      <td>M4B</td>\n      <td>East York</td>\n      <td>Woodbine Gardens</td>\n      <td>43.706397</td>\n      <td>-79.309937</td>\n    </tr>\n    <tr>\n      <th>12</th>\n      <td>M4B</td>\n      <td>East York</td>\n      <td>Parkview Hill</td>\n      <td>43.706397</td>\n      <td>-79.309937</td>\n    </tr>\n    <tr>\n      <th>13</th>\n      <td>M5B</td>\n      <td>Downtown Toronto</td>\n      <td>Ryerson</td>\n      <td>43.657162</td>\n      <td>-79.378937</td>\n    </tr>\n    <tr>\n      <th>14</th>\n      <td>M5B</td>\n      <td>Downtown Toronto</td>\n      <td>Garden District</td>\n      <td>43.657162</td>\n      <td>-79.378937</td>\n    </tr>\n    <tr>\n      <th>15</th>\n      <td>M6B</td>\n      <td>North York</td>\n      <td>Glencairn</td>\n      <td>43.709577</td>\n      <td>-79.445073</td>\n    </tr>\n    <tr>\n      <th>16</th>\n      <td>M9B</td>\n      <td>Etobicoke</td>\n      <td>Cloverdale</td>\n      <td>43.650943</td>\n      <td>-79.554724</td>\n    </tr>\n    <tr>\n      <th>17</th>\n      <td>M9B</td>\n      <td>Etobicoke</td>\n      <td>Islington</td>\n      <td>43.650943</td>\n      <td>-79.554724</td>\n    </tr>\n    <tr>\n      <th>18</th>\n      <td>M9B</td>\n      <td>Etobicoke</td>\n      <td>Martin Grove</td>\n      <td>43.650943</td>\n      <td>-79.554724</td>\n    </tr>\n    <tr>\n      <th>19</th>\n      <td>M9B</td>\n      <td>Etobicoke</td>\n      <td>Princess Gardens</td>\n      <td>43.650943</td>\n      <td>-79.554724</td>\n    </tr>\n    <tr>\n      <th>20</th>\n      <td>M9B</td>\n      <td>Etobicoke</td>\n      <td>West Deane Park</td>\n      <td>43.650943</td>\n      <td>-79.554724</td>\n    </tr>\n    <tr>\n      <th>21</th>\n      <td>M1C</td>\n      <td>Scarborough</td>\n      <td>Highland Creek</td>\n      <td>43.784535</td>\n      <td>-79.160497</td>\n    </tr>\n    <tr>\n      <th>22</th>\n      <td>M1C</td>\n      <td>Scarborough</td>\n      <td>Rouge Hill</td>\n      <td>43.784535</td>\n      <td>-79.160497</td>\n    </tr>\n    <tr>\n      <th>23</th>\n      <td>M1C</td>\n      <td>Scarborough</td>\n      <td>Port Union</td>\n      <td>43.784535</td>\n      <td>-79.160497</td>\n    </tr>\n    <tr>\n      <th>24</th>\n      <td>M3C</td>\n      <td>North York</td>\n      <td>Flemingdon Park</td>\n      <td>43.725900</td>\n      <td>-79.340923</td>\n    </tr>\n    <tr>\n      <th>25</th>\n      <td>M3C</td>\n      <td>North York</td>\n      <td>Don Mills South</td>\n      <td>43.725900</td>\n      <td>-79.340923</td>\n    </tr>\n    <tr>\n      <th>26</th>\n      <td>M4C</td>\n      <td>East York</td>\n      <td>Woodbine Heights</td>\n      <td>43.695344</td>\n      <td>-79.318389</td>\n    </tr>\n    <tr>\n      <th>27</th>\n      <td>M5C</td>\n      <td>Downtown Toronto</td>\n      <td>St. James Town</td>\n      <td>43.651494</td>\n      <td>-79.375418</td>\n    </tr>\n    <tr>\n      <th>28</th>\n      <td>M6C</td>\n      <td>York</td>\n      <td>Humewood-Cedarvale</td>\n      <td>43.693781</td>\n      <td>-79.428191</td>\n    </tr>\n    <tr>\n      <th>29</th>\n      <td>M9C</td>\n      <td>Etobicoke</td>\n      <td>Bloordale Gardens</td>\n      <td>43.643515</td>\n      <td>-79.577201</td>\n    </tr>\n    <tr>\n      <th>...</th>\n      <td>...</td>\n      <td>...</td>\n      <td>...</td>\n      <td>...</td>\n      <td>...</td>\n    </tr>\n    <tr>\n      <th>181</th>\n      <td>M9V</td>\n      <td>Etobicoke</td>\n      <td>Thistletown</td>\n      <td>43.739416</td>\n      <td>-79.588437</td>\n    </tr>\n    <tr>\n      <th>182</th>\n      <td>M1W</td>\n      <td>Scarborough</td>\n      <td>L'Amoreaux West</td>\n      <td>43.799525</td>\n      <td>-79.318389</td>\n    </tr>\n    <tr>\n      <th>183</th>\n      <td>M4W</td>\n      <td>Downtown Toronto</td>\n      <td>Rosedale</td>\n      <td>43.679563</td>\n      <td>-79.377529</td>\n    </tr>\n    <tr>\n      <th>184</th>\n      <td>M5W</td>\n      <td>Downtown Toronto</td>\n      <td>Stn A PO Boxes 25 The Esplanade</td>\n      <td>43.646435</td>\n      <td>-79.374846</td>\n    </tr>\n    <tr>\n      <th>185</th>\n      <td>M8W</td>\n      <td>Etobicoke</td>\n      <td>Alderwood</td>\n      <td>43.602414</td>\n      <td>-79.543484</td>\n    </tr>\n    <tr>\n      <th>186</th>\n      <td>M8W</td>\n      <td>Etobicoke</td>\n      <td>Long Branch</td>\n      <td>43.602414</td>\n      <td>-79.543484</td>\n    </tr>\n    <tr>\n      <th>187</th>\n      <td>M9W</td>\n      <td>Etobicoke</td>\n      <td>Northwest</td>\n      <td>43.706748</td>\n      <td>-79.594054</td>\n    </tr>\n    <tr>\n      <th>188</th>\n      <td>M1X</td>\n      <td>Scarborough</td>\n      <td>Upper Rouge</td>\n      <td>43.836125</td>\n      <td>-79.205636</td>\n    </tr>\n    <tr>\n      <th>189</th>\n      <td>M4X</td>\n      <td>Downtown Toronto</td>\n      <td>Cabbagetown</td>\n      <td>43.667967</td>\n      <td>-79.367675</td>\n    </tr>\n    <tr>\n      <th>190</th>\n      <td>M4X</td>\n      <td>Downtown Toronto</td>\n      <td>St. James Town</td>\n      <td>43.667967</td>\n      <td>-79.367675</td>\n    </tr>\n    <tr>\n      <th>191</th>\n      <td>M5X</td>\n      <td>Downtown Toronto</td>\n      <td>First Canadian Place</td>\n      <td>43.648429</td>\n      <td>-79.382280</td>\n    </tr>\n    <tr>\n      <th>192</th>\n      <td>M5X</td>\n      <td>Downtown Toronto</td>\n      <td>Underground city</td>\n      <td>43.648429</td>\n      <td>-79.382280</td>\n    </tr>\n    <tr>\n      <th>193</th>\n      <td>M8X</td>\n      <td>Etobicoke</td>\n      <td>The Kingsway</td>\n      <td>43.653654</td>\n      <td>-79.506944</td>\n    </tr>\n    <tr>\n      <th>194</th>\n      <td>M8X</td>\n      <td>Etobicoke</td>\n      <td>Montgomery Road</td>\n      <td>43.653654</td>\n      <td>-79.506944</td>\n    </tr>\n    <tr>\n      <th>195</th>\n      <td>M8X</td>\n      <td>Etobicoke</td>\n      <td>Old Mill North</td>\n      <td>43.653654</td>\n      <td>-79.506944</td>\n    </tr>\n    <tr>\n      <th>196</th>\n      <td>M4Y</td>\n      <td>Downtown Toronto</td>\n      <td>Church and Wellesley</td>\n      <td>43.665860</td>\n      <td>-79.383160</td>\n    </tr>\n    <tr>\n      <th>197</th>\n      <td>M7Y</td>\n      <td>East Toronto</td>\n      <td>Business Reply Mail Processing Centre 969 Eastern</td>\n      <td>43.662744</td>\n      <td>-79.321558</td>\n    </tr>\n    <tr>\n      <th>198</th>\n      <td>M8Y</td>\n      <td>Etobicoke</td>\n      <td>Humber Bay</td>\n      <td>43.636258</td>\n      <td>-79.498509</td>\n    </tr>\n    <tr>\n      <th>199</th>\n      <td>M8Y</td>\n      <td>Etobicoke</td>\n      <td>King's Mill Park</td>\n      <td>43.636258</td>\n      <td>-79.498509</td>\n    </tr>\n    <tr>\n      <th>200</th>\n      <td>M8Y</td>\n      <td>Etobicoke</td>\n      <td>Kingsway Park South East</td>\n      <td>43.636258</td>\n      <td>-79.498509</td>\n    </tr>\n    <tr>\n      <th>201</th>\n      <td>M8Y</td>\n      <td>Etobicoke</td>\n      <td>Mimico NE</td>\n      <td>43.636258</td>\n      <td>-79.498509</td>\n    </tr>\n    <tr>\n      <th>202</th>\n      <td>M8Y</td>\n      <td>Etobicoke</td>\n      <td>Old Mill South</td>\n      <td>43.636258</td>\n      <td>-79.498509</td>\n    </tr>\n    <tr>\n      <th>203</th>\n      <td>M8Y</td>\n      <td>Etobicoke</td>\n      <td>The Queensway East</td>\n      <td>43.636258</td>\n      <td>-79.498509</td>\n    </tr>\n    <tr>\n      <th>204</th>\n      <td>M8Y</td>\n      <td>Etobicoke</td>\n      <td>Royal York South East</td>\n      <td>43.636258</td>\n      <td>-79.498509</td>\n    </tr>\n    <tr>\n      <th>205</th>\n      <td>M8Y</td>\n      <td>Etobicoke</td>\n      <td>Sunnylea</td>\n      <td>43.636258</td>\n      <td>-79.498509</td>\n    </tr>\n    <tr>\n      <th>206</th>\n      <td>M8Z</td>\n      <td>Etobicoke</td>\n      <td>Kingsway Park South West</td>\n      <td>43.628841</td>\n      <td>-79.520999</td>\n    </tr>\n    <tr>\n      <th>207</th>\n      <td>M8Z</td>\n      <td>Etobicoke</td>\n      <td>Mimico NW</td>\n      <td>43.628841</td>\n      <td>-79.520999</td>\n    </tr>\n    <tr>\n      <th>208</th>\n      <td>M8Z</td>\n      <td>Etobicoke</td>\n      <td>The Queensway West</td>\n      <td>43.628841</td>\n      <td>-79.520999</td>\n    </tr>\n    <tr>\n      <th>209</th>\n      <td>M8Z</td>\n      <td>Etobicoke</td>\n      <td>Royal York South West</td>\n      <td>43.628841</td>\n      <td>-79.520999</td>\n    </tr>\n    <tr>\n      <th>210</th>\n      <td>M8Z</td>\n      <td>Etobicoke</td>\n      <td>South of Bloor</td>\n      <td>43.628841</td>\n      <td>-79.520999</td>\n    </tr>\n  </tbody>\n</table>\n<p>211 rows \u00d7 5 columns</p>\n</div>", 
                        "text/plain": "    Postcode           Borough  \\\n0        M3A        North York   \n1        M4A        North York   \n2        M5A  Downtown Toronto   \n3        M5A  Downtown Toronto   \n4        M6A        North York   \n5        M6A        North York   \n6        M7A      Queen's Park   \n7        M9A         Etobicoke   \n8        M1B       Scarborough   \n9        M1B       Scarborough   \n10       M3B        North York   \n11       M4B         East York   \n12       M4B         East York   \n13       M5B  Downtown Toronto   \n14       M5B  Downtown Toronto   \n15       M6B        North York   \n16       M9B         Etobicoke   \n17       M9B         Etobicoke   \n18       M9B         Etobicoke   \n19       M9B         Etobicoke   \n20       M9B         Etobicoke   \n21       M1C       Scarborough   \n22       M1C       Scarborough   \n23       M1C       Scarborough   \n24       M3C        North York   \n25       M3C        North York   \n26       M4C         East York   \n27       M5C  Downtown Toronto   \n28       M6C              York   \n29       M9C         Etobicoke   \n..       ...               ...   \n181      M9V         Etobicoke   \n182      M1W       Scarborough   \n183      M4W  Downtown Toronto   \n184      M5W  Downtown Toronto   \n185      M8W         Etobicoke   \n186      M8W         Etobicoke   \n187      M9W         Etobicoke   \n188      M1X       Scarborough   \n189      M4X  Downtown Toronto   \n190      M4X  Downtown Toronto   \n191      M5X  Downtown Toronto   \n192      M5X  Downtown Toronto   \n193      M8X         Etobicoke   \n194      M8X         Etobicoke   \n195      M8X         Etobicoke   \n196      M4Y  Downtown Toronto   \n197      M7Y      East Toronto   \n198      M8Y         Etobicoke   \n199      M8Y         Etobicoke   \n200      M8Y         Etobicoke   \n201      M8Y         Etobicoke   \n202      M8Y         Etobicoke   \n203      M8Y         Etobicoke   \n204      M8Y         Etobicoke   \n205      M8Y         Etobicoke   \n206      M8Z         Etobicoke   \n207      M8Z         Etobicoke   \n208      M8Z         Etobicoke   \n209      M8Z         Etobicoke   \n210      M8Z         Etobicoke   \n\n                                         Neighbourhood   Latitude  Longtitude  \n0                                            Parkwoods  43.753259  -79.329656  \n1                                     Victoria Village  43.725882  -79.315572  \n2                                         Harbourfront  43.654260  -79.360636  \n3                                          Regent Park  43.654260  -79.360636  \n4                                     Lawrence Heights  43.718518  -79.464763  \n5                                       Lawrence Manor  43.718518  -79.464763  \n6                                         Not assigned  43.662301  -79.389494  \n7                                     Islington Avenue  43.667856  -79.532242  \n8                                                Rouge  43.806686  -79.194353  \n9                                              Malvern  43.806686  -79.194353  \n10                                     Don Mills North  43.745906  -79.352188  \n11                                    Woodbine Gardens  43.706397  -79.309937  \n12                                       Parkview Hill  43.706397  -79.309937  \n13                                             Ryerson  43.657162  -79.378937  \n14                                     Garden District  43.657162  -79.378937  \n15                                           Glencairn  43.709577  -79.445073  \n16                                          Cloverdale  43.650943  -79.554724  \n17                                           Islington  43.650943  -79.554724  \n18                                        Martin Grove  43.650943  -79.554724  \n19                                    Princess Gardens  43.650943  -79.554724  \n20                                     West Deane Park  43.650943  -79.554724  \n21                                      Highland Creek  43.784535  -79.160497  \n22                                          Rouge Hill  43.784535  -79.160497  \n23                                          Port Union  43.784535  -79.160497  \n24                                     Flemingdon Park  43.725900  -79.340923  \n25                                     Don Mills South  43.725900  -79.340923  \n26                                    Woodbine Heights  43.695344  -79.318389  \n27                                      St. James Town  43.651494  -79.375418  \n28                                  Humewood-Cedarvale  43.693781  -79.428191  \n29                                   Bloordale Gardens  43.643515  -79.577201  \n..                                                 ...        ...         ...  \n181                                        Thistletown  43.739416  -79.588437  \n182                                    L'Amoreaux West  43.799525  -79.318389  \n183                                           Rosedale  43.679563  -79.377529  \n184                    Stn A PO Boxes 25 The Esplanade  43.646435  -79.374846  \n185                                          Alderwood  43.602414  -79.543484  \n186                                        Long Branch  43.602414  -79.543484  \n187                                          Northwest  43.706748  -79.594054  \n188                                        Upper Rouge  43.836125  -79.205636  \n189                                        Cabbagetown  43.667967  -79.367675  \n190                                     St. James Town  43.667967  -79.367675  \n191                               First Canadian Place  43.648429  -79.382280  \n192                                   Underground city  43.648429  -79.382280  \n193                                       The Kingsway  43.653654  -79.506944  \n194                                    Montgomery Road  43.653654  -79.506944  \n195                                     Old Mill North  43.653654  -79.506944  \n196                               Church and Wellesley  43.665860  -79.383160  \n197  Business Reply Mail Processing Centre 969 Eastern  43.662744  -79.321558  \n198                                         Humber Bay  43.636258  -79.498509  \n199                                   King's Mill Park  43.636258  -79.498509  \n200                           Kingsway Park South East  43.636258  -79.498509  \n201                                          Mimico NE  43.636258  -79.498509  \n202                                     Old Mill South  43.636258  -79.498509  \n203                                 The Queensway East  43.636258  -79.498509  \n204                              Royal York South East  43.636258  -79.498509  \n205                                           Sunnylea  43.636258  -79.498509  \n206                           Kingsway Park South West  43.628841  -79.520999  \n207                                          Mimico NW  43.628841  -79.520999  \n208                                 The Queensway West  43.628841  -79.520999  \n209                              Royal York South West  43.628841  -79.520999  \n210                                     South of Bloor  43.628841  -79.520999  \n\n[211 rows x 5 columns]"
                    }, 
                    "output_type": "execute_result"
                }
            ], 
            "source": "df_pc2"
        }
    ], 
    "metadata": {
        "kernelspec": {
            "display_name": "Python 3.6", 
            "name": "python3", 
            "language": "python"
        }, 
        "language_info": {
            "mimetype": "text/x-python", 
            "nbconvert_exporter": "python", 
            "version": "3.6.8", 
            "name": "python", 
            "file_extension": ".py", 
            "pygments_lexer": "ipython3", 
            "codemirror_mode": {
                "version": 3, 
                "name": "ipython"
            }
        }
    }, 
    "nbformat": 4
}