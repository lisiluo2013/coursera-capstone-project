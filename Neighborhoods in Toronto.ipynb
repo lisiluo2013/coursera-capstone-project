{
    "nbformat_minor": 1, 
    "cells": [
        {
            "source": "# 0. Installing the pre-requisted libs", 
            "cell_type": "markdown", 
            "metadata": {}
        }, 
        {
            "execution_count": 1, 
            "cell_type": "code", 
            "metadata": {}, 
            "outputs": [
                {
                    "output_type": "stream", 
                    "name": "stdout", 
                    "text": "Requirement already satisfied: beautifulsoup4 in /opt/conda/envs/Python36/lib/python3.6/site-packages (4.7.1)\nRequirement already satisfied: requests in /opt/conda/envs/Python36/lib/python3.6/site-packages (2.21.0)\nRequirement already satisfied: pandas in /opt/conda/envs/Python36/lib/python3.6/site-packages (0.24.1)\nCollecting geocoder\n\u001b[?25l  Downloading https://files.pythonhosted.org/packages/4f/6b/13166c909ad2f2d76b929a4227c952630ebaf0d729f6317eb09cbceccbab/geocoder-1.38.1-py2.py3-none-any.whl (98kB)\n\u001b[K     |\u2588\u2588\u2588\u2588\u2588\u2588\u2588\u2588\u2588\u2588\u2588\u2588\u2588\u2588\u2588\u2588\u2588\u2588\u2588\u2588\u2588\u2588\u2588\u2588\u2588\u2588\u2588\u2588\u2588\u2588\u2588\u2588| 102kB 15.0MB/s ta 0:00:01\n\u001b[?25hRequirement already satisfied: soupsieve>=1.2 in /opt/conda/envs/Python36/lib/python3.6/site-packages (from beautifulsoup4) (1.7.1)\nRequirement already satisfied: urllib3<1.25,>=1.21.1 in /opt/conda/envs/Python36/lib/python3.6/site-packages (from requests) (1.24.1)\nRequirement already satisfied: certifi>=2017.4.17 in /opt/conda/envs/Python36/lib/python3.6/site-packages (from requests) (2019.6.16)\nRequirement already satisfied: chardet<3.1.0,>=3.0.2 in /opt/conda/envs/Python36/lib/python3.6/site-packages (from requests) (3.0.4)\nRequirement already satisfied: idna<2.9,>=2.5 in /opt/conda/envs/Python36/lib/python3.6/site-packages (from requests) (2.8)\nRequirement already satisfied: python-dateutil>=2.5.0 in /opt/conda/envs/Python36/lib/python3.6/site-packages (from pandas) (2.7.5)\nRequirement already satisfied: pytz>=2011k in /opt/conda/envs/Python36/lib/python3.6/site-packages (from pandas) (2018.9)\nRequirement already satisfied: numpy>=1.12.0 in /opt/conda/envs/Python36/lib/python3.6/site-packages (from pandas) (1.15.4)\nRequirement already satisfied: future in /opt/conda/envs/Python36/lib/python3.6/site-packages (from geocoder) (0.17.1)\nRequirement already satisfied: click in /opt/conda/envs/Python36/lib/python3.6/site-packages (from geocoder) (7.0)\nRequirement already satisfied: six in /opt/conda/envs/Python36/lib/python3.6/site-packages (from geocoder) (1.12.0)\nCollecting ratelim (from geocoder)\n  Downloading https://files.pythonhosted.org/packages/f2/98/7e6d147fd16a10a5f821db6e25f192265d6ecca3d82957a4fdd592cad49c/ratelim-0.1.6-py2.py3-none-any.whl\nRequirement already satisfied: decorator in /opt/conda/envs/Python36/lib/python3.6/site-packages (from ratelim->geocoder) (4.3.2)\nInstalling collected packages: ratelim, geocoder\nSuccessfully installed geocoder-1.38.1 ratelim-0.1.6\n"
                }
            ], 
            "source": "!pip install beautifulsoup4 requests pandas geocoder"
        }, 
        {
            "source": "# 1. Data scrape", 
            "cell_type": "markdown", 
            "metadata": {
                "collapsed": true
            }
        }, 
        {
            "execution_count": 2, 
            "cell_type": "code", 
            "metadata": {}, 
            "outputs": [], 
            "source": "from bs4 import BeautifulSoup\nimport requests\nimport pandas as pd\nimport geocoder\nimport time\nimport json"
        }, 
        {
            "source": "### 1.1 Scraping from wikipedia", 
            "cell_type": "markdown", 
            "metadata": {}
        }, 
        {
            "execution_count": 3, 
            "cell_type": "code", 
            "metadata": {}, 
            "outputs": [], 
            "source": "def link_or_text(elem):\n    link = elem.select_one('a')\n    if link:\n        return link.text.strip()\n    return elem.text.strip()"
        }, 
        {
            "execution_count": 4, 
            "cell_type": "code", 
            "metadata": {}, 
            "outputs": [], 
            "source": "URL = \"https://en.wikipedia.org/wiki/List_of_postal_codes_of_Canada:_M\"\npc_data = []\n\nhtml = requests.get(URL).content\nsoup = BeautifulSoup(html, 'html.parser')\ntbody = soup.select_one('table.wikitable>tbody')\n\nfor tr in tbody.find_all('tr'):\n    tds = tr.find_all('td')\n    if len(tds) == 3 :\n        td_texts = [link_or_text(td) for td in tds]\n        item = dict(zip(['Postcode', 'Borough', 'Neighbourhood'], td_texts))\n        pc_data.append(item) "
        }, 
        {
            "execution_count": 5, 
            "cell_type": "code", 
            "metadata": {}, 
            "outputs": [
                {
                    "execution_count": 5, 
                    "metadata": {}, 
                    "data": {
                        "text/plain": "[{'Postcode': 'M1A',\n  'Borough': 'Not assigned',\n  'Neighbourhood': 'Not assigned'},\n {'Postcode': 'M2A',\n  'Borough': 'Not assigned',\n  'Neighbourhood': 'Not assigned'},\n {'Postcode': 'M3A', 'Borough': 'North York', 'Neighbourhood': 'Parkwoods'}]"
                    }, 
                    "output_type": "execute_result"
                }
            ], 
            "source": "pc_data[:3]"
        }, 
        {
            "execution_count": 6, 
            "cell_type": "code", 
            "metadata": {}, 
            "outputs": [], 
            "source": "pc_df = pd.DataFrame(pc_data)"
        }, 
        {
            "execution_count": 7, 
            "cell_type": "code", 
            "metadata": {}, 
            "outputs": [
                {
                    "execution_count": 7, 
                    "metadata": {}, 
                    "data": {
                        "text/html": "<div>\n<style scoped>\n    .dataframe tbody tr th:only-of-type {\n        vertical-align: middle;\n    }\n\n    .dataframe tbody tr th {\n        vertical-align: top;\n    }\n\n    .dataframe thead th {\n        text-align: right;\n    }\n</style>\n<table border=\"1\" class=\"dataframe\">\n  <thead>\n    <tr style=\"text-align: right;\">\n      <th></th>\n      <th>Borough</th>\n      <th>Neighbourhood</th>\n      <th>Postcode</th>\n    </tr>\n  </thead>\n  <tbody>\n    <tr>\n      <th>0</th>\n      <td>Not assigned</td>\n      <td>Not assigned</td>\n      <td>M1A</td>\n    </tr>\n    <tr>\n      <th>1</th>\n      <td>Not assigned</td>\n      <td>Not assigned</td>\n      <td>M2A</td>\n    </tr>\n    <tr>\n      <th>2</th>\n      <td>North York</td>\n      <td>Parkwoods</td>\n      <td>M3A</td>\n    </tr>\n    <tr>\n      <th>3</th>\n      <td>North York</td>\n      <td>Victoria Village</td>\n      <td>M4A</td>\n    </tr>\n    <tr>\n      <th>4</th>\n      <td>Downtown Toronto</td>\n      <td>Harbourfront</td>\n      <td>M5A</td>\n    </tr>\n  </tbody>\n</table>\n</div>", 
                        "text/plain": "            Borough     Neighbourhood Postcode\n0      Not assigned      Not assigned      M1A\n1      Not assigned      Not assigned      M2A\n2        North York         Parkwoods      M3A\n3        North York  Victoria Village      M4A\n4  Downtown Toronto      Harbourfront      M5A"
                    }, 
                    "output_type": "execute_result"
                }
            ], 
            "source": "pc_df.head()"
        }, 
        {
            "execution_count": 8, 
            "cell_type": "code", 
            "metadata": {}, 
            "outputs": [
                {
                    "execution_count": 8, 
                    "metadata": {}, 
                    "data": {
                        "text/html": "<div>\n<style scoped>\n    .dataframe tbody tr th:only-of-type {\n        vertical-align: middle;\n    }\n\n    .dataframe tbody tr th {\n        vertical-align: top;\n    }\n\n    .dataframe thead th {\n        text-align: right;\n    }\n</style>\n<table border=\"1\" class=\"dataframe\">\n  <thead>\n    <tr style=\"text-align: right;\">\n      <th></th>\n      <th>Borough</th>\n      <th>Neighbourhood</th>\n      <th>Postcode</th>\n    </tr>\n  </thead>\n  <tbody>\n    <tr>\n      <th>283</th>\n      <td>Etobicoke</td>\n      <td>Mimico NW</td>\n      <td>M8Z</td>\n    </tr>\n    <tr>\n      <th>284</th>\n      <td>Etobicoke</td>\n      <td>The Queensway West</td>\n      <td>M8Z</td>\n    </tr>\n    <tr>\n      <th>285</th>\n      <td>Etobicoke</td>\n      <td>Royal York South West</td>\n      <td>M8Z</td>\n    </tr>\n    <tr>\n      <th>286</th>\n      <td>Etobicoke</td>\n      <td>South of Bloor</td>\n      <td>M8Z</td>\n    </tr>\n    <tr>\n      <th>287</th>\n      <td>Not assigned</td>\n      <td>Not assigned</td>\n      <td>M9Z</td>\n    </tr>\n  </tbody>\n</table>\n</div>", 
                        "text/plain": "          Borough          Neighbourhood Postcode\n283     Etobicoke              Mimico NW      M8Z\n284     Etobicoke     The Queensway West      M8Z\n285     Etobicoke  Royal York South West      M8Z\n286     Etobicoke         South of Bloor      M8Z\n287  Not assigned           Not assigned      M9Z"
                    }, 
                    "output_type": "execute_result"
                }
            ], 
            "source": "pc_df.tail()"
        }, 
        {
            "source": "### 1.2 Retriving location coordinates", 
            "cell_type": "markdown", 
            "metadata": {}
        }, 
        {
            "execution_count": 51, 
            "cell_type": "code", 
            "metadata": {}, 
            "outputs": [], 
            "source": "GCP_API_KEY = 'THIS_IS_A_SECRET'"
        }, 
        {
            "execution_count": 9, 
            "cell_type": "code", 
            "metadata": {}, 
            "outputs": [], 
            "source": "# The code was removed by Watson Studio for sharing."
        }, 
        {
            "execution_count": 10, 
            "cell_type": "code", 
            "metadata": {}, 
            "outputs": [], 
            "source": "latlong_data = []\n\nqry_result = []\nfor item in pc_data:\n    pc = item.get('postcode')\n    qry = f'{pc}, Toronto, Ontario'\n    for i in range(3):\n        r = geocoder.google(qry, key=GCP_API_KEY)\n        if r.latlng:\n            qry_result.append(r)\n            break\n        else:\n            time.sleep(1.5)\n    "
        }, 
        {
            "execution_count": 11, 
            "cell_type": "code", 
            "metadata": {}, 
            "outputs": [], 
            "source": "## `latlongs` is just a list of dictionary with keys Latitude and Longtitude \n## and we will merge it back to the pc_data later\nlatlongs = [dict([('Latitude', r.latlng[0]), ('Longtitude', r.latlng[1])])  for r in  qry_result]"
        }, 
        {
            "execution_count": 12, 
            "cell_type": "code", 
            "metadata": {}, 
            "outputs": [
                {
                    "execution_count": 12, 
                    "metadata": {}, 
                    "data": {
                        "text/plain": "[{'Latitude': 43.6687091, 'Longtitude': -79.3895289},\n {'Latitude': 43.6687091, 'Longtitude': -79.3895289},\n {'Latitude': 43.6687091, 'Longtitude': -79.3895289},\n {'Latitude': 43.6687091, 'Longtitude': -79.3895289},\n {'Latitude': 43.6687091, 'Longtitude': -79.3895289}]"
                    }, 
                    "output_type": "execute_result"
                }
            ], 
            "source": "latlongs[:5]"
        }, 
        {
            "execution_count": 16, 
            "cell_type": "code", 
            "metadata": {}, 
            "outputs": [], 
            "source": "## Merging the pc_data and latlongs\n_ = [d.update(d_latlng) for (d, d_latlng) in zip(pc_data, latlongs)]"
        }, 
        {
            "execution_count": 17, 
            "cell_type": "code", 
            "metadata": {}, 
            "outputs": [
                {
                    "execution_count": 17, 
                    "metadata": {}, 
                    "data": {
                        "text/plain": "[{'Postcode': 'M1A',\n  'Borough': 'Not assigned',\n  'Neighbourhood': 'Not assigned',\n  'Latitude': 43.6687091,\n  'Longtitude': -79.3895289},\n {'Postcode': 'M2A',\n  'Borough': 'Not assigned',\n  'Neighbourhood': 'Not assigned',\n  'Latitude': 43.6687091,\n  'Longtitude': -79.3895289},\n {'Postcode': 'M3A',\n  'Borough': 'North York',\n  'Neighbourhood': 'Parkwoods',\n  'Latitude': 43.6687091,\n  'Longtitude': -79.3895289}]"
                    }, 
                    "output_type": "execute_result"
                }
            ], 
            "source": "pc_data[:3]"
        }, 
        {
            "execution_count": 18, 
            "cell_type": "code", 
            "metadata": {}, 
            "outputs": [], 
            "source": "df_pc2 = pd.DataFrame(pc_data, columns=['Postcode', 'Neighbourhood', 'Borough'])"
        }, 
        {
            "execution_count": 19, 
            "cell_type": "code", 
            "metadata": {}, 
            "outputs": [
                {
                    "execution_count": 19, 
                    "metadata": {}, 
                    "data": {
                        "text/html": "<div>\n<style scoped>\n    .dataframe tbody tr th:only-of-type {\n        vertical-align: middle;\n    }\n\n    .dataframe tbody tr th {\n        vertical-align: top;\n    }\n\n    .dataframe thead th {\n        text-align: right;\n    }\n</style>\n<table border=\"1\" class=\"dataframe\">\n  <thead>\n    <tr style=\"text-align: right;\">\n      <th></th>\n      <th>Borough</th>\n      <th>Latitude</th>\n      <th>Longtitude</th>\n      <th>Neighbourhood</th>\n      <th>Postcode</th>\n    </tr>\n  </thead>\n  <tbody>\n    <tr>\n      <th>0</th>\n      <td>Not assigned</td>\n      <td>43.668709</td>\n      <td>-79.389529</td>\n      <td>Not assigned</td>\n      <td>M1A</td>\n    </tr>\n    <tr>\n      <th>1</th>\n      <td>Not assigned</td>\n      <td>43.668709</td>\n      <td>-79.389529</td>\n      <td>Not assigned</td>\n      <td>M2A</td>\n    </tr>\n    <tr>\n      <th>2</th>\n      <td>North York</td>\n      <td>43.668709</td>\n      <td>-79.389529</td>\n      <td>Parkwoods</td>\n      <td>M3A</td>\n    </tr>\n    <tr>\n      <th>3</th>\n      <td>North York</td>\n      <td>43.668709</td>\n      <td>-79.389529</td>\n      <td>Victoria Village</td>\n      <td>M4A</td>\n    </tr>\n    <tr>\n      <th>4</th>\n      <td>Downtown Toronto</td>\n      <td>43.668709</td>\n      <td>-79.389529</td>\n      <td>Harbourfront</td>\n      <td>M5A</td>\n    </tr>\n  </tbody>\n</table>\n</div>", 
                        "text/plain": "            Borough   Latitude  Longtitude     Neighbourhood Postcode\n0      Not assigned  43.668709  -79.389529      Not assigned      M1A\n1      Not assigned  43.668709  -79.389529      Not assigned      M2A\n2        North York  43.668709  -79.389529         Parkwoods      M3A\n3        North York  43.668709  -79.389529  Victoria Village      M4A\n4  Downtown Toronto  43.668709  -79.389529      Harbourfront      M5A"
                    }, 
                    "output_type": "execute_result"
                }
            ], 
            "source": "df_pc2.head()"
        }, 
        {
            "execution_count": 20, 
            "cell_type": "code", 
            "metadata": {}, 
            "outputs": [
                {
                    "execution_count": 20, 
                    "metadata": {}, 
                    "data": {
                        "text/html": "<div>\n<style scoped>\n    .dataframe tbody tr th:only-of-type {\n        vertical-align: middle;\n    }\n\n    .dataframe tbody tr th {\n        vertical-align: top;\n    }\n\n    .dataframe thead th {\n        text-align: right;\n    }\n</style>\n<table border=\"1\" class=\"dataframe\">\n  <thead>\n    <tr style=\"text-align: right;\">\n      <th></th>\n      <th>Borough</th>\n      <th>Latitude</th>\n      <th>Longtitude</th>\n      <th>Neighbourhood</th>\n      <th>Postcode</th>\n    </tr>\n  </thead>\n  <tbody>\n    <tr>\n      <th>283</th>\n      <td>Etobicoke</td>\n      <td>43.668709</td>\n      <td>-79.389529</td>\n      <td>Mimico NW</td>\n      <td>M8Z</td>\n    </tr>\n    <tr>\n      <th>284</th>\n      <td>Etobicoke</td>\n      <td>43.668709</td>\n      <td>-79.389529</td>\n      <td>The Queensway West</td>\n      <td>M8Z</td>\n    </tr>\n    <tr>\n      <th>285</th>\n      <td>Etobicoke</td>\n      <td>43.668709</td>\n      <td>-79.389529</td>\n      <td>Royal York South West</td>\n      <td>M8Z</td>\n    </tr>\n    <tr>\n      <th>286</th>\n      <td>Etobicoke</td>\n      <td>43.668709</td>\n      <td>-79.389529</td>\n      <td>South of Bloor</td>\n      <td>M8Z</td>\n    </tr>\n    <tr>\n      <th>287</th>\n      <td>Not assigned</td>\n      <td>43.668709</td>\n      <td>-79.389529</td>\n      <td>Not assigned</td>\n      <td>M9Z</td>\n    </tr>\n  </tbody>\n</table>\n</div>", 
                        "text/plain": "          Borough   Latitude  Longtitude          Neighbourhood Postcode\n283     Etobicoke  43.668709  -79.389529              Mimico NW      M8Z\n284     Etobicoke  43.668709  -79.389529     The Queensway West      M8Z\n285     Etobicoke  43.668709  -79.389529  Royal York South West      M8Z\n286     Etobicoke  43.668709  -79.389529         South of Bloor      M8Z\n287  Not assigned  43.668709  -79.389529           Not assigned      M9Z"
                    }, 
                    "output_type": "execute_result"
                }
            ], 
            "source": "df_pc2.tail()"
        }, 
        {
            "execution_count": 21, 
            "cell_type": "code", 
            "metadata": {}, 
            "outputs": [
                {
                    "execution_count": 21, 
                    "metadata": {}, 
                    "data": {
                        "text/plain": "Index(['Borough', 'Latitude', 'Longtitude', 'Neighbourhood', 'Postcode'], dtype='object')"
                    }, 
                    "output_type": "execute_result"
                }
            ], 
            "source": "df_pc2.columns = "
        }
    ], 
    "metadata": {
        "kernelspec": {
            "display_name": "Python 3.6", 
            "name": "python3", 
            "language": "python"
        }, 
        "language_info": {
            "mimetype": "text/x-python", 
            "nbconvert_exporter": "python", 
            "version": "3.6.8", 
            "name": "python", 
            "file_extension": ".py", 
            "pygments_lexer": "ipython3", 
            "codemirror_mode": {
                "version": 3, 
                "name": "ipython"
            }
        }
    }, 
    "nbformat": 4
}